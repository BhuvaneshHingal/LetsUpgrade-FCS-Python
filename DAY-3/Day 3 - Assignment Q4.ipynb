{
 "cells": [
  {
   "cell_type": "code",
   "execution_count": 7,
   "metadata": {},
   "outputs": [
    {
     "name": "stdout",
     "output_type": "stream",
     "text": [
      "Length = 250\n",
      "Number of photos = 5\n",
      "Height = 200\n",
      "Width = 150\n",
      "UPLOAD ANOTHER\n",
      "\n",
      "UPLOAD ANOTHER\n",
      "\n",
      "UPLOAD ANOTHER\n",
      "\n",
      "UPLOAD ANOTHER\n",
      "\n",
      "UPLOAD ANOTHER\n",
      "\n"
     ]
    }
   ],
   "source": [
    "L = int(input(\"Length = \"))\n",
    "N = int(input(\"Number of photos = \"))\n",
    "H = int(input(\"Height = \"))\n",
    "W = int(input(\"Width = \"))\n",
    "   \n",
    "for i in range(N):   \n",
    "    if(W<L or H<L):\n",
    "        print(\"UPLOAD ANOTHER\\n\")\n",
    "    elif(W==H):\n",
    "        print(\"ACCEPTED\\n\")\n",
    "\n",
    "    else:\n",
    "        print(\"CROP IT\\n\")\n",
    "\n"
   ]
  },
  {
   "cell_type": "code",
   "execution_count": null,
   "metadata": {},
   "outputs": [],
   "source": []
  }
 ],
 "metadata": {
  "kernelspec": {
   "display_name": "Python 3",
   "language": "python",
   "name": "python3"
  },
  "language_info": {
   "codemirror_mode": {
    "name": "ipython",
    "version": 3
   },
   "file_extension": ".py",
   "mimetype": "text/x-python",
   "name": "python",
   "nbconvert_exporter": "python",
   "pygments_lexer": "ipython3",
   "version": "3.7.6"
  }
 },
 "nbformat": 4,
 "nbformat_minor": 4
}
