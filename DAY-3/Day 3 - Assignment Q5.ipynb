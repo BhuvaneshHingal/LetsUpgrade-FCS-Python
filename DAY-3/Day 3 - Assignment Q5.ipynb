{
 "cells": [
  {
   "cell_type": "code",
   "execution_count": 13,
   "metadata": {},
   "outputs": [
    {
     "name": "stdout",
     "output_type": "stream",
     "text": [
      "D\n",
      "0 -1\n"
     ]
    }
   ],
   "source": [
    "S = input()\n",
    "x = 0\n",
    "y = 0\n",
    "for i, indx in enumerate(S):\n",
    "    if (S[i]== 'L'):\n",
    "        x -= 1\n",
    "    elif (S[i]=='R'):\n",
    "        x += 1\n",
    "    elif (S[i]=='U'):\n",
    "        y += 1\n",
    "    elif (S[i]=='D'):\n",
    "        y -= 1\n",
    "    print(\"%d %d\"%(x,y))"
   ]
  },
  {
   "cell_type": "code",
   "execution_count": null,
   "metadata": {},
   "outputs": [],
   "source": []
  }
 ],
 "metadata": {
  "kernelspec": {
   "display_name": "Python 3",
   "language": "python",
   "name": "python3"
  },
  "language_info": {
   "codemirror_mode": {
    "name": "ipython",
    "version": 3
   },
   "file_extension": ".py",
   "mimetype": "text/x-python",
   "name": "python",
   "nbconvert_exporter": "python",
   "pygments_lexer": "ipython3",
   "version": "3.7.6"
  }
 },
 "nbformat": 4,
 "nbformat_minor": 4
}
