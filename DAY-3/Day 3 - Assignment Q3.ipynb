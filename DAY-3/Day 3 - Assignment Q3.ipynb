{
 "cells": [
  {
   "cell_type": "code",
   "execution_count": 1,
   "metadata": {},
   "outputs": [
    {
     "data": {
      "text/plain": [
       "'\\nWAP to Handle File using Python Script.\\n1. Opening a File\\n2. Writing - I love FCS\\n3. Close the file\\n4. Open the file again\\n5. Show the content on screen\\n'"
      ]
     },
     "execution_count": 1,
     "metadata": {},
     "output_type": "execute_result"
    }
   ],
   "source": [
    "\"\"\"\n",
    "WAP to Handle File using Python Script.\n",
    "1. Opening a File\n",
    "2. Writing - I love FCS\n",
    "3. Close the file\n",
    "4. Open the file again\n",
    "5. Show the content on screen\n",
    "\"\"\""
   ]
  },
  {
   "cell_type": "code",
   "execution_count": 2,
   "metadata": {},
   "outputs": [],
   "source": [
    "file = open(\"file.txt\",\"w\")       #To open the file in write mode.\n",
    "file.write(\"I love FCS\")          #Writing data into the file.\n",
    "file.close()                      #To close the file."
   ]
  },
  {
   "cell_type": "code",
   "execution_count": 3,
   "metadata": {},
   "outputs": [
    {
     "name": "stdout",
     "output_type": "stream",
     "text": [
      "I love FCS\n"
     ]
    }
   ],
   "source": [
    "with open(\"file.txt\",\"r\") as f:\n",
    "    print(f.read())"
   ]
  },
  {
   "cell_type": "code",
   "execution_count": null,
   "metadata": {},
   "outputs": [],
   "source": []
  }
 ],
 "metadata": {
  "kernelspec": {
   "display_name": "Python 3",
   "language": "python",
   "name": "python3"
  },
  "language_info": {
   "codemirror_mode": {
    "name": "ipython",
    "version": 3
   },
   "file_extension": ".py",
   "mimetype": "text/x-python",
   "name": "python",
   "nbconvert_exporter": "python",
   "pygments_lexer": "ipython3",
   "version": "3.7.6"
  }
 },
 "nbformat": 4,
 "nbformat_minor": 4
}
