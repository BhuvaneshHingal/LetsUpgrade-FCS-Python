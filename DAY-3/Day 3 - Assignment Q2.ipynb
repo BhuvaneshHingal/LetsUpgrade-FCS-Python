{
 "cells": [
  {
   "cell_type": "code",
   "execution_count": 1,
   "metadata": {},
   "outputs": [
    {
     "data": {
      "text/plain": [
       "'\\n\\nGuessing Team India Score in 20-20 Cricket -\\nWAP gives you a random score of Team India in a cricket match, and a player has to\\nguess the score given by computer in between 1 to 250. The rules are:\\n1. If a player\\'s guess is less than 1 or greater than 250, say \"Reduce your expectation for 20-20\\nCricket\"\\n2. On a player\\'s input, if their score guess is\\na. within 10 of the number, return \"Close By, you are True Indian Fan! \"\\nb. further than 10 away from the number, return \"You don\\'t watch that much! :P \"\\n\\n'"
      ]
     },
     "execution_count": 1,
     "metadata": {},
     "output_type": "execute_result"
    }
   ],
   "source": [
    "\"\"\"\n",
    "\n",
    "Guessing Team India Score in 20-20 Cricket -\n",
    "WAP gives you a random score of Team India in a cricket match, and a player has to\n",
    "guess the score given by computer in between 1 to 250. The rules are:\n",
    "1. If a player's guess is less than 1 or greater than 250, say \"Reduce your expectation for 20-20\n",
    "Cricket\"\n",
    "2. On a player's input, if their score guess is\n",
    "a. within 10 of the number, return \"Close By, you are True Indian Fan! \"\n",
    "b. further than 10 away from the number, return \"You don't watch that much! :P \"\n",
    "\n",
    "\"\"\""
   ]
  },
  {
   "cell_type": "code",
   "execution_count": 2,
   "metadata": {},
   "outputs": [],
   "source": [
    "# To generate a random number between 1 and 250\n",
    "\n",
    "# importing the random module\n",
    "import random\n",
    "score = random.randint(1,250)\n"
   ]
  },
  {
   "cell_type": "code",
   "execution_count": 3,
   "metadata": {},
   "outputs": [
    {
     "name": "stdout",
     "output_type": "stream",
     "text": [
      "Guess the score of cricket match: 251\n"
     ]
    }
   ],
   "source": [
    "guess_score = int(input(\"Guess the score of cricket match: \"))\n"
   ]
  },
  {
   "cell_type": "code",
   "execution_count": 4,
   "metadata": {},
   "outputs": [
    {
     "name": "stdout",
     "output_type": "stream",
     "text": [
      "Reduce your expectation for 20-20 Cricket.\n"
     ]
    }
   ],
   "source": [
    "if (guess_score<1) or (guess_score>250):\n",
    "    print(\"Reduce your expectation for 20-20 Cricket.\")"
   ]
  },
  {
   "cell_type": "code",
   "execution_count": 5,
   "metadata": {},
   "outputs": [
    {
     "name": "stdout",
     "output_type": "stream",
     "text": [
      "You don't watch that much! :P \n"
     ]
    }
   ],
   "source": [
    "for guess_score in range(score,score-10):\n",
    "    print(\"Close By, you are True Indian Fan!\")\n",
    "if guess_score>(score+10):\n",
    "    print(\"You don't watch that much! :P \")\n",
    "if guess_score == score:\n",
    "    print(\"Congratulations! You guessed the actual score.\")"
   ]
  },
  {
   "cell_type": "code",
   "execution_count": 6,
   "metadata": {},
   "outputs": [
    {
     "name": "stdout",
     "output_type": "stream",
     "text": [
      "Oops! The score was:  224\n"
     ]
    }
   ],
   "source": [
    "print(\"Oops! The score was: \",score)"
   ]
  },
  {
   "cell_type": "code",
   "execution_count": 7,
   "metadata": {},
   "outputs": [
    {
     "name": "stdout",
     "output_type": "stream",
     "text": [
      "The score you guessed:  251\n"
     ]
    }
   ],
   "source": [
    "print(\"The score you guessed: \",guess_score)"
   ]
  },
  {
   "cell_type": "code",
   "execution_count": null,
   "metadata": {},
   "outputs": [],
   "source": []
  }
 ],
 "metadata": {
  "kernelspec": {
   "display_name": "Python 3",
   "language": "python",
   "name": "python3"
  },
  "language_info": {
   "codemirror_mode": {
    "name": "ipython",
    "version": 3
   },
   "file_extension": ".py",
   "mimetype": "text/x-python",
   "name": "python",
   "nbconvert_exporter": "python",
   "pygments_lexer": "ipython3",
   "version": "3.7.6"
  }
 },
 "nbformat": 4,
 "nbformat_minor": 4
}
