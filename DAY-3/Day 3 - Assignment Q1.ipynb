{
 "cells": [
  {
   "cell_type": "code",
   "execution_count": 4,
   "metadata": {},
   "outputs": [
    {
     "data": {
      "text/plain": [
       "'\\nWAP for taking one number a input and then using if elif else concept, assign a grade\\nto the input number from\\nA,B,C,D,E, Fail\\nIn a formatted report card Example :\\nInput - 97\\nOutput - |--------|\\n| A |\\n|--------|\\n'"
      ]
     },
     "execution_count": 4,
     "metadata": {},
     "output_type": "execute_result"
    }
   ],
   "source": [
    "\"\"\"\n",
    "WAP for taking one number a input and then using if elif else concept, assign a grade\n",
    "to the input number from\n",
    "A,B,C,D,E, Fail\n",
    "In a formatted report card Example :\n",
    "Input - 97\n",
    "Output - |--------|\n",
    "         |   A    |\n",
    "         |--------|\n",
    "\"\"\""
   ]
  },
  {
   "cell_type": "code",
   "execution_count": 11,
   "metadata": {},
   "outputs": [
    {
     "name": "stdout",
     "output_type": "stream",
     "text": [
      "Enter marks in the range of 1-100\n",
      "Enter marks to display the respective grade: 92\n"
     ]
    }
   ],
   "source": [
    "print(\"Enter marks in the range of 1-100\")\n",
    "marks = int(input(\"Enter marks to display the respective grade: \"))"
   ]
  },
  {
   "cell_type": "code",
   "execution_count": 13,
   "metadata": {},
   "outputs": [
    {
     "name": "stdout",
     "output_type": "stream",
     "text": [
      "Grade Scored: \n",
      "|------------|\n",
      "|      A     |\n",
      "|------------|\n",
      "Congratulations!!!! You are eligible for scholarship.\n"
     ]
    }
   ],
   "source": [
    "if marks<40 and marks>0:\n",
    "    print(\"Grade Scored: \")\n",
    "    print(\"|------------|\")\n",
    "    print(\"|      F     |\")\n",
    "    print(\"|------------|\")\n",
    "elif marks<50:\n",
    "    print(\"Grade Scored: \")\n",
    "    print(\"|------------|\")\n",
    "    print(\"|      E     |\")\n",
    "    print(\"|------------|\")\n",
    "elif marks<60:\n",
    "    print(\"Grade Scored: \")\n",
    "    print(\"|------------|\")\n",
    "    print(\"|      D     |\")\n",
    "    print(\"|------------|\")\n",
    "elif marks<70:\n",
    "    print(\"Grade Scored: \")\n",
    "    print(\"|------------|\")\n",
    "    print(\"|      C     |\")\n",
    "    print(\"|------------|\")\n",
    "elif marks<80:\n",
    "    print(\"Grade Scored: \")\n",
    "    print(\"|------------|\")\n",
    "    print(\"|      B     |\")\n",
    "    print(\"|------------|\")\n",
    "elif marks<=100:\n",
    "    print(\"Grade Scored: \")\n",
    "    print(\"|------------|\")\n",
    "    print(\"|      A     |\")\n",
    "    print(\"|------------|\")\n",
    "    print(\"Congratulations!!!! You are eligible for scholarship.\")\n",
    "else:\n",
    "    print(\"Enter valid marks between the specified range of 1-100\")"
   ]
  },
  {
   "cell_type": "code",
   "execution_count": null,
   "metadata": {},
   "outputs": [],
   "source": []
  }
 ],
 "metadata": {
  "kernelspec": {
   "display_name": "Python 3",
   "language": "python",
   "name": "python3"
  },
  "language_info": {
   "codemirror_mode": {
    "name": "ipython",
    "version": 3
   },
   "file_extension": ".py",
   "mimetype": "text/x-python",
   "name": "python",
   "nbconvert_exporter": "python",
   "pygments_lexer": "ipython3",
   "version": "3.7.6"
  }
 },
 "nbformat": 4,
 "nbformat_minor": 4
}
