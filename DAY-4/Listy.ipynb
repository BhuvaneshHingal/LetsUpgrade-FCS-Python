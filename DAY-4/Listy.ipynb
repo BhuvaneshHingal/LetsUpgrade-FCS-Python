{
 "cells": [
  {
   "cell_type": "code",
   "execution_count": 1,
   "metadata": {},
   "outputs": [],
   "source": [
    "def is_Sublist(listy, sub_list):\n",
    "    flag = 0\n",
    "    if((set(sub_list) & set(listy))== set(sub_list)): \n",
    "        flag = 1\n",
    "      \n",
    "    # printing result \n",
    "    if (flag) : \n",
    "        return \"It's a match.\"\n",
    "    else : \n",
    "        return \"It's gone.\""
   ]
  },
  {
   "cell_type": "code",
   "execution_count": 7,
   "metadata": {},
   "outputs": [
    {
     "name": "stdout",
     "output_type": "stream",
     "text": [
      "Enter number of elements : 5\n",
      "1\n",
      "2\n",
      "3\n",
      "1\n",
      "5\n",
      "[1, 2, 3, 1, 5]\n",
      "Original list : [1, 2, 3, 1, 5]\n",
      "Original sub list : [1, 1, 5]\n",
      "It's a match.\n"
     ]
    }
   ],
   "source": [
    "#main \n",
    "listy = []\n",
    "a = [1,1,5] \n",
    "n = int(input(\"Enter number of elements : \")) \n",
    "for i in range(0, n): \n",
    "    ele = int(input()) \n",
    "  \n",
    "    listy.append(ele) \n",
    "      \n",
    "print(listy) \n",
    "print (\"Original list : \" + str(listy)) \n",
    "print (\"Original sub list : \" + str(a)) \n",
    "print(is_Sublist(listy, a))"
   ]
  },
  {
   "cell_type": "code",
   "execution_count": null,
   "metadata": {},
   "outputs": [],
   "source": []
  }
 ],
 "metadata": {
  "kernelspec": {
   "display_name": "Python 3",
   "language": "python",
   "name": "python3"
  },
  "language_info": {
   "codemirror_mode": {
    "name": "ipython",
    "version": 3
   },
   "file_extension": ".py",
   "mimetype": "text/x-python",
   "name": "python",
   "nbconvert_exporter": "python",
   "pygments_lexer": "ipython3",
   "version": "3.7.6"
  }
 },
 "nbformat": 4,
 "nbformat_minor": 4
}
