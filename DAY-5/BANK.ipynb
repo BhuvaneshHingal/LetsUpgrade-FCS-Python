{
 "cells": [
  {
   "cell_type": "code",
   "execution_count": 2,
   "metadata": {},
   "outputs": [
    {
     "name": "stdout",
     "output_type": "stream",
     "text": [
      "Hello!! Welcome to the Deposit & Withdrawl Machine\n",
      "Enter amount to be deposited: ₹5000\n",
      "Amount deposited: ₹ 5000.0\n",
      "Enter amount to be withdrawn: ₹3000\n",
      "\n",
      "You Withdrew: ₹ 3000.0\n",
      "\n",
      "Net available balance = ₹ 2000.0\n",
      "Enter amount to be withdrawn: ₹5000\n",
      "\n",
      "Insufficient Balance\n",
      "\n",
      "Net available balance = ₹ 2000.0\n"
     ]
    }
   ],
   "source": [
    "class Bank_Account:\n",
    "    def __init__(self):\n",
    "        self.balance = 0\n",
    "        print(\"Hello!! Welcome to the Deposit & Withdrawl Machine\")\n",
    "        \n",
    "    def deposit(self):\n",
    "        amount = float(input(\"Enter amount to be deposited: ₹\"))\n",
    "        self.balance += amount\n",
    "        print(\"Amount deposited: ₹\", amount)\n",
    "    \n",
    "    def withdraw(self):\n",
    "        amount = float(input(\"Enter amount to be withdrawn: ₹\"))\n",
    "        if self.balance >= amount:\n",
    "            self.balance -= amount\n",
    "            print(\"\\nYou Withdrew: ₹\", amount)\n",
    "        else:\n",
    "            print(\"\\nInsufficient Balance\")\n",
    "    def display(self):\n",
    "        print(\"\\nNet available balance = ₹\", self.balance)\n",
    "# Creating an object of class\n",
    "S = Bank_Account()\n",
    "S.deposit()\n",
    "S.withdraw()\n",
    "S.display()\n",
    "S.withdraw()\n",
    "S.display()\n",
    "\n",
    "            \n",
    "    "
   ]
  },
  {
   "cell_type": "code",
   "execution_count": null,
   "metadata": {},
   "outputs": [],
   "source": []
  }
 ],
 "metadata": {
  "kernelspec": {
   "display_name": "Python 3",
   "language": "python",
   "name": "python3"
  },
  "language_info": {
   "codemirror_mode": {
    "name": "ipython",
    "version": 3
   },
   "file_extension": ".py",
   "mimetype": "text/x-python",
   "name": "python",
   "nbconvert_exporter": "python",
   "pygments_lexer": "ipython3",
   "version": "3.7.6"
  }
 },
 "nbformat": 4,
 "nbformat_minor": 4
}
