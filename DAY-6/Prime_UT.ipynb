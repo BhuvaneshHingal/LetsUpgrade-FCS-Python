{
 "cells": [
  {
   "cell_type": "code",
   "execution_count": 1,
   "metadata": {},
   "outputs": [
    {
     "data": {
      "text/plain": [
       "'\\nWrite a Python Function for finding a given number prime or not and do unit testing on it\\nusing PyLint and Unit test library.\\n'"
      ]
     },
     "execution_count": 1,
     "metadata": {},
     "output_type": "execute_result"
    }
   ],
   "source": [
    "\"\"\"\n",
    "Write a Python Function for finding a given number prime or not and do unit testing on it\n",
    "using PyLint and Unit test library.\n",
    "\"\"\""
   ]
  },
  {
   "cell_type": "code",
   "execution_count": 4,
   "metadata": {},
   "outputs": [
    {
     "name": "stdout",
     "output_type": "stream",
     "text": [
      "Requirement already satisfied: pylint in e:\\anaconda\\lib\\site-packages (2.4.4)\n",
      "Requirement already satisfied: isort<5,>=4.2.5 in e:\\anaconda\\lib\\site-packages (from pylint) (4.3.21)\n",
      "Requirement already satisfied: colorama; sys_platform == \"win32\" in e:\\anaconda\\lib\\site-packages (from pylint) (0.4.3)\n",
      "Requirement already satisfied: mccabe<0.7,>=0.6 in e:\\anaconda\\lib\\site-packages (from pylint) (0.6.1)\n",
      "Requirement already satisfied: astroid<2.4,>=2.3.0 in e:\\anaconda\\lib\\site-packages (from pylint) (2.3.3)\n",
      "Requirement already satisfied: six~=1.12 in e:\\anaconda\\lib\\site-packages (from astroid<2.4,>=2.3.0->pylint) (1.14.0)\n",
      "Requirement already satisfied: wrapt==1.11.* in e:\\anaconda\\lib\\site-packages (from astroid<2.4,>=2.3.0->pylint) (1.11.2)\n",
      "Requirement already satisfied: lazy-object-proxy==1.4.* in e:\\anaconda\\lib\\site-packages (from astroid<2.4,>=2.3.0->pylint) (1.4.3)\n",
      "Requirement already satisfied: typed-ast<1.5,>=1.4.0; implementation_name == \"cpython\" and python_version < \"3.8\" in e:\\anaconda\\lib\\site-packages (from astroid<2.4,>=2.3.0->pylint) (1.4.1)\n"
     ]
    }
   ],
   "source": [
    "! pip install pylint"
   ]
  },
  {
   "cell_type": "code",
   "execution_count": 83,
   "metadata": {},
   "outputs": [
    {
     "name": "stdout",
     "output_type": "stream",
     "text": [
      "Overwriting prime_number.py\n"
     ]
    }
   ],
   "source": [
    "%%writefile prime_number.py\n",
    "\"\"\"Program to check Prime Number or not.\"\"\"\n",
    "def is_prime(num):\n",
    "    \"\"\"Function to check whether a number is prime or not.\"\"\"\n",
    "    if num <= 1:\n",
    "        return False\n",
    "    if num <= 3:\n",
    "        return True\n",
    "    if num%2 == 0 or num%3 == 0:\n",
    "        return False\n",
    "    i = 5\n",
    "    while i*i <= num:\n",
    "        if num%i == 0 or num%(i + 2) == 0:\n",
    "            return False\n",
    "        i = i + 6\n",
    "    return True\n"
   ]
  },
  {
   "cell_type": "code",
   "execution_count": 85,
   "metadata": {},
   "outputs": [
    {
     "name": "stdout",
     "output_type": "stream",
     "text": [
      "\n",
      "--------------------------------------------------------------------\n",
      "\n",
      "Your code has been rated at 10.00/10 (previous run: 10.00/10, +0.00)\n",
      "\n",
      "\n",
      "\n"
     ]
    }
   ],
   "source": [
    "!pylint prime_number.py"
   ]
  },
  {
   "cell_type": "code",
   "execution_count": 88,
   "metadata": {},
   "outputs": [
    {
     "name": "stdout",
     "output_type": "stream",
     "text": [
      "Overwriting unittestof_PrimeNumbers.py\n"
     ]
    }
   ],
   "source": [
    "%%writefile unittestof_PrimeNumbers.py\n",
    "import unittest\n",
    "import prime_number\n",
    "import sympy\n",
    "\n",
    "class PrimesTestCase(unittest.TestCase):\n",
    "    \n",
    "    def test_numbers(self):\n",
    "        a = 11\n",
    "        result = prime_number.is_prime(a)\n",
    "        self.assertEqual(result,sympy.isprime(11))\n",
    "        \n",
    "if __name__ == '__main__':\n",
    "    unittest.main()\n",
    "        \n"
   ]
  },
  {
   "cell_type": "code",
   "execution_count": 89,
   "metadata": {},
   "outputs": [
    {
     "name": "stderr",
     "output_type": "stream",
     "text": [
      ".\n",
      "----------------------------------------------------------------------\n",
      "Ran 1 test in 0.000s\n",
      "\n",
      "OK\n"
     ]
    }
   ],
   "source": [
    "!python unittestof_PrimeNumbers.py"
   ]
  },
  {
   "cell_type": "code",
   "execution_count": null,
   "metadata": {},
   "outputs": [],
   "source": []
  }
 ],
 "metadata": {
  "kernelspec": {
   "display_name": "Python 3",
   "language": "python",
   "name": "python3"
  },
  "language_info": {
   "codemirror_mode": {
    "name": "ipython",
    "version": 3
   },
   "file_extension": ".py",
   "mimetype": "text/x-python",
   "name": "python",
   "nbconvert_exporter": "python",
   "pygments_lexer": "ipython3",
   "version": "3.7.6"
  }
 },
 "nbformat": 4,
 "nbformat_minor": 4
}
