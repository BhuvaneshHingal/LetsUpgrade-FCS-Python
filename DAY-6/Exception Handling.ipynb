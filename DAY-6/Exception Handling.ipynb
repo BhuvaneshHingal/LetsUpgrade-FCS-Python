{
 "cells": [
  {
   "cell_type": "code",
   "execution_count": 4,
   "metadata": {},
   "outputs": [
    {
     "name": "stdout",
     "output_type": "stream",
     "text": [
      "The file gave us error -  not writable\n",
      "ABC\n"
     ]
    }
   ],
   "source": [
    "try:\n",
    "    file = open(\"FCS.txt\",'r')\n",
    "    file.write(\"ABC\")\n",
    "except Exception as e:\n",
    "    print(\"The file gave us error - \", e)\n",
    "    file = open(\"FCS.txt\",'r')\n",
    "    print(file.read())\n",
    "finally:\n",
    "    file.close()"
   ]
  },
  {
   "cell_type": "code",
   "execution_count": 10,
   "metadata": {},
   "outputs": [],
   "source": [
    "try:\n",
    "    file = open(\"FCS.txt\",'w')\n",
    "    file.write(\"Saikiran Sondarkar is an amazing teacher!!\")\n",
    "except Exception as e:\n",
    "    print(\"The file gave us error - \", e)\n",
    "    file = open(\"FCS.txt\",'r')\n",
    "    print(file.read())\n",
    "finally:\n",
    "    file.close()"
   ]
  },
  {
   "cell_type": "code",
   "execution_count": 11,
   "metadata": {},
   "outputs": [
    {
     "name": "stdout",
     "output_type": "stream",
     "text": [
      "Saikiran Sondarkar is an amazing teacher!!\n"
     ]
    }
   ],
   "source": [
    "with open(\"FCS.txt\") as f:\n",
    "    print(f.read())"
   ]
  },
  {
   "cell_type": "code",
   "execution_count": null,
   "metadata": {},
   "outputs": [],
   "source": []
  }
 ],
 "metadata": {
  "kernelspec": {
   "display_name": "Python 3",
   "language": "python",
   "name": "python3"
  },
  "language_info": {
   "codemirror_mode": {
    "name": "ipython",
    "version": 3
   },
   "file_extension": ".py",
   "mimetype": "text/x-python",
   "name": "python",
   "nbconvert_exporter": "python",
   "pygments_lexer": "ipython3",
   "version": "3.7.6"
  }
 },
 "nbformat": 4,
 "nbformat_minor": 4
}
